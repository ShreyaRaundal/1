{
  "nbformat": 4,
  "nbformat_minor": 0,
  "metadata": {
    "colab": {
      "provenance": [],
      "authorship_tag": "ABX9TyNI84t3RpGEWcVvMl+8U4h8",
      "include_colab_link": true
    },
    "kernelspec": {
      "name": "python3",
      "display_name": "Python 3"
    },
    "language_info": {
      "name": "python"
    }
  },
  "cells": [
    {
      "cell_type": "markdown",
      "metadata": {
        "id": "view-in-github",
        "colab_type": "text"
      },
      "source": [
        "<a href=\"https://colab.research.google.com/github/ShreyaRaundal/1/blob/main/AES.ipynb\" target=\"_parent\"><img src=\"https://colab.research.google.com/assets/colab-badge.svg\" alt=\"Open In Colab\"/></a>"
      ]
    },
    {
      "cell_type": "code",
      "execution_count": 1,
      "metadata": {
        "colab": {
          "base_uri": "https://localhost:8080/"
        },
        "id": "Xmj6vAyncqtM",
        "outputId": "34bd0507-e60f-4d4d-b37e-1ff77b9fddfe"
      },
      "outputs": [
        {
          "output_type": "stream",
          "name": "stdout",
          "text": [
            "Original Data: This is a secret message\n",
            "IV: 93dce6153800bc6d29fc4af77d85943d\n",
            "Ciphertext: e75ca0f11d298a87fac990774c00d44f8fd21971487cabe30bdf5656112b6fbd\n",
            "Decrypted Data: This is a secret message\n"
          ]
        }
      ],
      "source": [
        "from cryptography.hazmat.primitives.ciphers import Cipher, algorithms, modes\n",
        "from cryptography.hazmat.backends import default_backend\n",
        "from cryptography.hazmat.primitives import padding\n",
        "import os\n",
        "import binascii\n",
        "\n",
        "# Function to encrypt data using AES\n",
        "def encrypt_data(data, key):\n",
        "    # Generate a random IV\n",
        "    iv = os.urandom(16)\n",
        "\n",
        "    # Initialize the AES cipher in CBC mode\n",
        "    cipher = Cipher(algorithms.AES(key), modes.CBC(iv), backend=default_backend())\n",
        "    encryptor = cipher.encryptor()\n",
        "\n",
        "    # Pad the data to ensure it is a multiple of block size (16 bytes)\n",
        "    padder = padding.PKCS7(128).padder()\n",
        "    padded_data = padder.update(data.encode()) + padder.finalize()\n",
        "\n",
        "    # Encrypt the padded data\n",
        "    ciphertext = encryptor.update(padded_data) + encryptor.finalize()\n",
        "\n",
        "    # Return the IV and ciphertext in hexadecimal format\n",
        "    return binascii.hexlify(iv).decode('utf-8'), binascii.hexlify(ciphertext).decode('utf-8')\n",
        "\n",
        "# Function to decrypt data using AES\n",
        "def decrypt_data(iv, ciphertext, key):\n",
        "    # Convert hex to bytes\n",
        "    iv = binascii.unhexlify(iv)\n",
        "    ciphertext = binascii.unhexlify(ciphertext)\n",
        "\n",
        "    # Initialize the AES cipher in CBC mode with the given IV\n",
        "    cipher = Cipher(algorithms.AES(key), modes.CBC(iv), backend=default_backend())\n",
        "    decryptor = cipher.decryptor()\n",
        "\n",
        "    # Decrypt the data\n",
        "    decrypted_data = decryptor.update(ciphertext) + decryptor.finalize()\n",
        "\n",
        "    # Unpad the decrypted data\n",
        "    unpadder = padding.PKCS7(128).unpadder()\n",
        "    unpadded_data = unpadder.update(decrypted_data) + unpadder.finalize()\n",
        "\n",
        "    return unpadded_data.decode()\n",
        "\n",
        "# Example usage\n",
        "if __name__ == \"__main__\":\n",
        "    key = os.urandom(32)  # 32-byte key for AES-256\n",
        "    data = \"This is a secret message\"\n",
        "\n",
        "    print(\"Original Data:\", data)\n",
        "\n",
        "    # Encrypt data\n",
        "    iv, ciphertext = encrypt_data(data, key)\n",
        "    print(\"IV:\", iv)\n",
        "    print(\"Ciphertext:\", ciphertext)\n",
        "\n",
        "    # Decrypt data\n",
        "    decrypted_data = decrypt_data(iv, ciphertext, key)\n",
        "    print(\"Decrypted Data:\", decrypted_data)"
      ]
    }
  ]
}