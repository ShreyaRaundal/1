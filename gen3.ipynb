{
  "nbformat": 4,
  "nbformat_minor": 0,
  "metadata": {
    "colab": {
      "provenance": [],
      "toc_visible": true,
      "authorship_tag": "ABX9TyMaXiF5bmQlpm8wSwRAVvi9",
      "include_colab_link": true
    },
    "kernelspec": {
      "name": "python3",
      "display_name": "Python 3"
    },
    "language_info": {
      "name": "python"
    }
  },
  "cells": [
    {
      "cell_type": "markdown",
      "metadata": {
        "id": "view-in-github",
        "colab_type": "text"
      },
      "source": [
        "<a href=\"https://colab.research.google.com/github/ShreyaRaundal/1/blob/main/gen3.ipynb\" target=\"_parent\"><img src=\"https://colab.research.google.com/assets/colab-badge.svg\" alt=\"Open In Colab\"/></a>"
      ]
    },
    {
      "cell_type": "code",
      "execution_count": null,
      "metadata": {
        "colab": {
          "base_uri": "https://localhost:8080/"
        },
        "id": "MtT6hre0JaxU",
        "outputId": "f720ff13-fe30-42bb-ce03-1150bd139de8"
      },
      "outputs": [
        {
          "output_type": "stream",
          "name": "stdout",
          "text": [
            "Requirement already satisfied: openai in /usr/local/lib/python3.11/dist-packages (1.76.2)\n",
            "Requirement already satisfied: anyio<5,>=3.5.0 in /usr/local/lib/python3.11/dist-packages (from openai) (4.9.0)\n",
            "Requirement already satisfied: distro<2,>=1.7.0 in /usr/local/lib/python3.11/dist-packages (from openai) (1.9.0)\n",
            "Requirement already satisfied: httpx<1,>=0.23.0 in /usr/local/lib/python3.11/dist-packages (from openai) (0.28.1)\n",
            "Requirement already satisfied: jiter<1,>=0.4.0 in /usr/local/lib/python3.11/dist-packages (from openai) (0.9.0)\n",
            "Requirement already satisfied: pydantic<3,>=1.9.0 in /usr/local/lib/python3.11/dist-packages (from openai) (2.11.4)\n",
            "Requirement already satisfied: sniffio in /usr/local/lib/python3.11/dist-packages (from openai) (1.3.1)\n",
            "Requirement already satisfied: tqdm>4 in /usr/local/lib/python3.11/dist-packages (from openai) (4.67.1)\n",
            "Requirement already satisfied: typing-extensions<5,>=4.11 in /usr/local/lib/python3.11/dist-packages (from openai) (4.13.2)\n",
            "Requirement already satisfied: idna>=2.8 in /usr/local/lib/python3.11/dist-packages (from anyio<5,>=3.5.0->openai) (3.10)\n",
            "Requirement already satisfied: certifi in /usr/local/lib/python3.11/dist-packages (from httpx<1,>=0.23.0->openai) (2025.4.26)\n",
            "Requirement already satisfied: httpcore==1.* in /usr/local/lib/python3.11/dist-packages (from httpx<1,>=0.23.0->openai) (1.0.9)\n",
            "Requirement already satisfied: h11>=0.16 in /usr/local/lib/python3.11/dist-packages (from httpcore==1.*->httpx<1,>=0.23.0->openai) (0.16.0)\n",
            "Requirement already satisfied: annotated-types>=0.6.0 in /usr/local/lib/python3.11/dist-packages (from pydantic<3,>=1.9.0->openai) (0.7.0)\n",
            "Requirement already satisfied: pydantic-core==2.33.2 in /usr/local/lib/python3.11/dist-packages (from pydantic<3,>=1.9.0->openai) (2.33.2)\n",
            "Requirement already satisfied: typing-inspection>=0.4.0 in /usr/local/lib/python3.11/dist-packages (from pydantic<3,>=1.9.0->openai) (0.4.0)\n",
            "Error generating prompt: \n",
            "\n",
            "You tried to access openai.ChatCompletion, but this is no longer supported in openai>=1.0.0 - see the README at https://github.com/openai/openai-python for the API.\n",
            "\n",
            "You can run `openai migrate` to automatically upgrade your codebase to use the 1.0.0 interface. \n",
            "\n",
            "Alternatively, you can pin your installation to the old version, e.g. `pip install openai==0.28`\n",
            "\n",
            "A detailed migration guide is available here: https://github.com/openai/openai-python/discussions/742\n",
            "\n"
          ]
        }
      ],
      "source": [
        "# Step 1: Install OpenAI SDK\n",
        "!pip install openai\n",
        "\n",
        "# Step 2: Import OpenAI SDK and Set API Key\n",
        "import openai\n",
        "from IPython.display import Image, display\n",
        "\n",
        "# Replace with your actual OpenAI API key\n",
        "openai.api_key = \"your-api-key\"  # Replace with your actual OpenAI API key\n",
        "\n",
        "# Step 3: Generate Refined Prompt and Create Image\n",
        "def craft_prompt(base_idea):\n",
        "    try:\n",
        "        response = openai.ChatCompletion.create(\n",
        "            model=\"gpt-4\",  # Using GPT-4 (change based on your plan)\n",
        "            messages=[\n",
        "                {\"role\": \"system\", \"content\": \"You are an expert at writing detailed image prompts.\"},\n",
        "                {\"role\": \"user\", \"content\": f\"Create a perfect DALL·E image prompt for: {base_idea}\"}\n",
        "            ]\n",
        "        )\n",
        "        return response['choices'][0]['message']['content']\n",
        "    except Exception as e:\n",
        "        print(\"Error generating prompt:\", e)\n",
        "        return \"\"\n",
        "\n",
        "# Define the base idea\n",
        "base_idea = \"a futuristic concert in a neon-lit city with holographic instruments\"\n",
        "refined_prompt = craft_prompt(base_idea)\n",
        "\n",
        "if refined_prompt:\n",
        "    # Print the refined prompt\n",
        "    print(\"Generated Prompt:\", refined_prompt)\n",
        "\n",
        "    # Step 4: Generate Image Using the Refined Prompt\n",
        "    try:\n",
        "        response = openai.Image.create(\n",
        "            prompt=refined_prompt,\n",
        "            n=1,  # Number of images to generate\n",
        "            size=\"512x512\"  # Image size (can choose others like \"256x256\" or \"1024x1024\")\n",
        "        )\n",
        "\n",
        "        # Get the image URL from the response\n",
        "        image_url = response['data'][0]['url']\n",
        "        print(\"/content/javaaaa.jpg\", image_url)\n",
        "\n",
        "        # Step 5: Display the Image\n",
        "        display(Image(url=image_url))\n",
        "\n",
        "    except Exception as e:\n",
        "        print(\"Error generating image:\", e)\n"
      ]
    }
  ]
}