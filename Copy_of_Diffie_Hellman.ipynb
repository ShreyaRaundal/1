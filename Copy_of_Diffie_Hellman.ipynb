{
  "nbformat": 4,
  "nbformat_minor": 0,
  "metadata": {
    "colab": {
      "provenance": [],
      "authorship_tag": "ABX9TyN44hmji2cjBxlYNa1RlDPG",
      "include_colab_link": true
    },
    "kernelspec": {
      "name": "python3",
      "display_name": "Python 3"
    },
    "language_info": {
      "name": "python"
    }
  },
  "cells": [
    {
      "cell_type": "markdown",
      "metadata": {
        "id": "view-in-github",
        "colab_type": "text"
      },
      "source": [
        "<a href=\"https://colab.research.google.com/github/ShreyaRaundal/1/blob/main/Copy_of_Diffie_Hellman.ipynb\" target=\"_parent\"><img src=\"https://colab.research.google.com/assets/colab-badge.svg\" alt=\"Open In Colab\"/></a>"
      ]
    },
    {
      "cell_type": "code",
      "execution_count": null,
      "metadata": {
        "id": "4Je9WOSTfrR_"
      },
      "outputs": [],
      "source": [
        "# Diffie-Hellman Code\n",
        "\n",
        "# Power function to return value of a^b mod P\n",
        "def power(a, b, p):\n",
        "    if b == 1:\n",
        "        return a\n",
        "    else:\n",
        "        return pow(a, b) % p\n",
        "\n",
        "# Main function\n",
        "def main():\n",
        "    # Both persons agree upon the public keys G and P\n",
        "    # A prime number P is taken\n",
        "    P = 23\n",
        "    print(\"The value of P:\", P)\n",
        "\n",
        "    # A primitive root for P, G is taken\n",
        "    G = 9\n",
        "    print(\"The value of G:\", G)\n",
        "\n",
        "    # Alice chooses the private key a\n",
        "    # a is the chosen private key\n",
        "    a = 4\n",
        "    print(\"The private key a for Alice:\", a)\n",
        "\n",
        "    # Gets the generated key\n",
        "    x = power(G, a, P)\n",
        "\n",
        "    # Bob chooses the private key b\n",
        "    # b is the chosen private key\n",
        "    b = 3\n",
        "    print(\"The private key b for Bob:\", b)\n",
        "\n",
        "    # Gets the generated key\n",
        "    y = power(G, b, P)\n",
        "\n",
        "    # Generating the secret key after the exchange of keys\n",
        "    ka = power(y, a, P)  # Secret key for Alice\n",
        "    kb = power(x, b, P)  # Secret key for Bob\n",
        "\n",
        "    print(\"Secret key for Alice is:\", ka)\n",
        "    print(\"Secret key for Bob is:\", kb)\n",
        "\n",
        "if __name__ == \"__main__\":\n",
        "    main()"
      ]
    }
  ]
}