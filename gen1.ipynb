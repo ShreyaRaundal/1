{
  "cells": [
    {
      "cell_type": "markdown",
      "metadata": {
        "id": "view-in-github",
        "colab_type": "text"
      },
      "source": [
        "<a href=\"https://colab.research.google.com/github/ShreyaRaundal/1/blob/main/gen1.ipynb\" target=\"_parent\"><img src=\"https://colab.research.google.com/assets/colab-badge.svg\" alt=\"Open In Colab\"/></a>"
      ]
    },
    {
      "cell_type": "code",
      "execution_count": null,
      "metadata": {
        "colab": {
          "background_save": true,
          "base_uri": "https://localhost:8080/"
        },
        "id": "gt1vNJc-9iGO",
        "outputId": "6ccb7ab0-e3f4-4d43-f48b-9563581c6636"
      },
      "outputs": [
        {
          "name": "stdout",
          "output_type": "stream",
          "text": [
            "[Epoch 0/5] [Batch 0/938] [D loss: 0.6504] [G loss: 0.6763]\n",
            "[Epoch 0/5] [Batch 200/938] [D loss: 0.6293] [G loss: 0.6475]\n",
            "[Epoch 0/5] [Batch 400/938] [D loss: 0.6551] [G loss: 0.7258]\n",
            "[Epoch 0/5] [Batch 600/938] [D loss: 0.4301] [G loss: 1.2567]\n",
            "[Epoch 0/5] [Batch 800/938] [D loss: 0.3410] [G loss: 1.5609]\n",
            "[Epoch 1/5] [Batch 0/938] [D loss: 1.1355] [G loss: 0.1155]\n",
            "[Epoch 1/5] [Batch 200/938] [D loss: 0.3005] [G loss: 1.2596]\n",
            "[Epoch 1/5] [Batch 400/938] [D loss: 0.3025] [G loss: 1.7684]\n",
            "[Epoch 1/5] [Batch 600/938] [D loss: 0.2579] [G loss: 1.6182]\n",
            "[Epoch 1/5] [Batch 800/938] [D loss: 0.2326] [G loss: 1.9046]\n",
            "[Epoch 2/5] [Batch 0/938] [D loss: 0.2533] [G loss: 1.8709]\n",
            "[Epoch 2/5] [Batch 200/938] [D loss: 0.3014] [G loss: 1.9016]\n",
            "[Epoch 2/5] [Batch 400/938] [D loss: 0.3281] [G loss: 1.6136]\n",
            "[Epoch 2/5] [Batch 600/938] [D loss: 0.3340] [G loss: 2.0278]\n",
            "[Epoch 2/5] [Batch 800/938] [D loss: 0.9347] [G loss: 4.6337]\n",
            "[Epoch 3/5] [Batch 0/938] [D loss: 0.2778] [G loss: 2.5285]\n",
            "[Epoch 3/5] [Batch 200/938] [D loss: 0.3789] [G loss: 1.8148]\n",
            "[Epoch 3/5] [Batch 400/938] [D loss: 0.4021] [G loss: 0.9670]\n",
            "[Epoch 3/5] [Batch 600/938] [D loss: 0.4145] [G loss: 0.7854]\n",
            "[Epoch 3/5] [Batch 800/938] [D loss: 0.4976] [G loss: 3.7125]\n",
            "[Epoch 4/5] [Batch 0/938] [D loss: 0.2823] [G loss: 1.3885]\n",
            "[Epoch 4/5] [Batch 200/938] [D loss: 0.3782] [G loss: 1.1561]\n",
            "[Epoch 4/5] [Batch 400/938] [D loss: 0.5539] [G loss: 0.6307]\n",
            "[Epoch 4/5] [Batch 600/938] [D loss: 0.4659] [G loss: 2.2757]\n",
            "[Epoch 4/5] [Batch 800/938] [D loss: 0.4880] [G loss: 0.8340]\n"
          ]
        }
      ],
      "source": [
        "import torch\n",
        "import torch.nn as nn\n",
        "import torch.optim as optim\n",
        "from torchvision import datasets, transforms\n",
        "from torch.utils.data import DataLoader\n",
        "from torchvision.utils import save_image\n",
        "import os\n",
        "\n",
        "# Device configuration\n",
        "device = torch.device(\"cuda\" if torch.cuda.is_available() else \"cpu\")\n",
        "\n",
        "# Hyperparameters\n",
        "latent_dim = 100\n",
        "batch_size = 64\n",
        "lr = 0.0002\n",
        "epochs = 5\n",
        "image_dir = \"gan_images\"\n",
        "os.makedirs(image_dir, exist_ok=True)\n",
        "\n",
        "# Data loader\n",
        "transform = transforms.Compose([\n",
        "    transforms.ToTensor(),\n",
        "    transforms.Normalize([0.5], [0.5])\n",
        "])\n",
        "dataloader = DataLoader(\n",
        "    datasets.MNIST(root='./data', train=True, download=True, transform=transform),\n",
        "    batch_size=batch_size, shuffle=True\n",
        ")\n",
        "\n",
        "# Generator\n",
        "class Generator(nn.Module):\n",
        "    def __init__(self):\n",
        "        super(Generator, self).__init__()\n",
        "        self.model = nn.Sequential(\n",
        "            nn.Linear(latent_dim, 256),\n",
        "            nn.LeakyReLU(0.2, inplace=True),\n",
        "            nn.Linear(256, 512),\n",
        "            nn.LeakyReLU(0.2, inplace=True),\n",
        "            nn.Linear(512, 1024),\n",
        "            nn.LeakyReLU(0.2, inplace=True),\n",
        "            nn.Linear(1024, 28*28),\n",
        "            nn.Tanh()\n",
        "        )\n",
        "\n",
        "    def forward(self, z):\n",
        "        img = self.model(z)\n",
        "        return img.view(z.size(0), 1, 28, 28)\n",
        "\n",
        "# Discriminator\n",
        "class Discriminator(nn.Module):\n",
        "    def __init__(self):\n",
        "        super(Discriminator, self).__init__()\n",
        "        self.model = nn.Sequential(\n",
        "            nn.Linear(28*28, 512),\n",
        "            nn.LeakyReLU(0.2, inplace=True),\n",
        "            nn.Linear(512, 256),\n",
        "            nn.LeakyReLU(0.2, inplace=True),\n",
        "            nn.Linear(256, 1),\n",
        "            nn.Sigmoid()\n",
        "        )\n",
        "\n",
        "    def forward(self, img):\n",
        "        img_flat = img.view(img.size(0), -1)\n",
        "        validity = self.model(img_flat)\n",
        "        return validity\n",
        "\n",
        "# Initialize models\n",
        "generator = Generator().to(device)\n",
        "discriminator = Discriminator().to(device)\n",
        "\n",
        "# Loss and optimizers\n",
        "adversarial_loss = nn.BCELoss()\n",
        "optimizer_G = optim.Adam(generator.parameters(), lr=lr, betas=(0.5, 0.999))\n",
        "optimizer_D = optim.Adam(discriminator.parameters(), lr=lr, betas=(0.5, 0.999))\n",
        "\n",
        "# Training loop\n",
        "for epoch in range(epochs):\n",
        "    for i, (imgs, _) in enumerate(dataloader):\n",
        "        real_imgs = imgs.to(device)\n",
        "\n",
        "        valid = torch.ones(imgs.size(0), 1, device=device, dtype=torch.float)\n",
        "        fake = torch.zeros(imgs.size(0), 1, device=device, dtype=torch.float)\n",
        "\n",
        "        # ------------------\n",
        "        # Train Generator\n",
        "        # ------------------\n",
        "        optimizer_G.zero_grad()\n",
        "        z = torch.randn(imgs.size(0), latent_dim, device=device)\n",
        "        gen_imgs = generator(z)\n",
        "        g_loss = adversarial_loss(discriminator(gen_imgs), valid)\n",
        "        g_loss.backward()\n",
        "        optimizer_G.step()\n",
        "\n",
        "        # ---------------------\n",
        "        # Train Discriminator\n",
        "        # ---------------------\n",
        "        optimizer_D.zero_grad()\n",
        "        real_loss = adversarial_loss(discriminator(real_imgs), valid)\n",
        "        fake_loss = adversarial_loss(discriminator(gen_imgs.detach()), fake)\n",
        "        d_loss = (real_loss + fake_loss) / 2\n",
        "        d_loss.backward()\n",
        "        optimizer_D.step()\n",
        "\n",
        "        if i % 200 == 0:\n",
        "            print(f\"[Epoch {epoch}/{epochs}] [Batch {i}/{len(dataloader)}] \"\n",
        "                  f\"[D loss: {d_loss.item():.4f}] [G loss: {g_loss.item():.4f}]\")\n",
        "\n",
        "    save_image(gen_imgs.data[:25], f\"{image_dir}/{epoch:03d}.png\", nrow=5, normalize=True)\n"
      ]
    },
    {
      "cell_type": "code",
      "execution_count": null,
      "metadata": {
        "colab": {
          "base_uri": "https://localhost:8080/"
        },
        "id": "MbCqltgdD-Ub",
        "outputId": "3ef14188-4ebb-468d-a98e-2b89b60365b0"
      },
      "outputs": [
        {
          "name": "stdout",
          "output_type": "stream",
          "text": [
            "Epoch 0, Loss: 1.6076\n",
            "Epoch 100, Loss: 0.0081\n",
            "Epoch 200, Loss: 0.0035\n",
            "Epoch 300, Loss: 0.0020\n",
            "Epoch 400, Loss: 0.0013\n",
            "Epoch 500, Loss: 0.0009\n",
            "Epoch 600, Loss: 0.0007\n",
            "Epoch 700, Loss: 0.0006\n",
            "Epoch 800, Loss: 0.0004\n",
            "Epoch 900, Loss: 0.0004\n",
            "Generated text: hldr  hddelhwdrlrld r\n"
          ]
        }
      ],
      "source": []
    }
  ],
  "metadata": {
    "colab": {
      "provenance": [],
      "authorship_tag": "ABX9TyPif2T8FcWo+zFGNQ+z7zpx",
      "include_colab_link": true
    },
    "kernelspec": {
      "display_name": "Python 3",
      "name": "python3"
    },
    "language_info": {
      "name": "python"
    }
  },
  "nbformat": 4,
  "nbformat_minor": 0
}