{
  "nbformat": 4,
  "nbformat_minor": 0,
  "metadata": {
    "colab": {
      "provenance": [],
      "authorship_tag": "ABX9TyNMe+x5/tvDDNRgO7azHTGW",
      "include_colab_link": true
    },
    "kernelspec": {
      "name": "python3",
      "display_name": "Python 3"
    },
    "language_info": {
      "name": "python"
    }
  },
  "cells": [
    {
      "cell_type": "markdown",
      "metadata": {
        "id": "view-in-github",
        "colab_type": "text"
      },
      "source": [
        "<a href=\"https://colab.research.google.com/github/ShreyaRaundal/1/blob/main/RSA.ipynb\" target=\"_parent\"><img src=\"https://colab.research.google.com/assets/colab-badge.svg\" alt=\"Open In Colab\"/></a>"
      ]
    },
    {
      "cell_type": "code",
      "execution_count": null,
      "metadata": {
        "colab": {
          "base_uri": "https://localhost:8080/"
        },
        "id": "DcdGpmCddqtb",
        "outputId": "e280a51a-82f0-43df-fbfa-1603d0f13866"
      },
      "outputs": [
        {
          "output_type": "stream",
          "name": "stdout",
          "text": [
            "Encrypted message is 1394\n",
            "Decrypted message is 89\n",
            "Encrypted message is 3\n",
            "Decrypted message is 12\n"
          ]
        }
      ],
      "source": [
        "from math import gcd\n",
        "\n",
        "# Define a function to perform RSA approach\n",
        "def RSA(p: int, q: int, message: int):\n",
        "    # Step 1: Calculate n\n",
        "    n = p * q\n",
        "\n",
        "    # Step 2: Calculate totient (Euler's totient function)\n",
        "    t = (p - 1) * (q - 1)\n",
        "\n",
        "    # Step 3: Choose public key 'e' such that gcd(e, t) == 1\n",
        "    for i in range(2, t):\n",
        "        if gcd(i, t) == 1:\n",
        "            e = i\n",
        "            break\n",
        "\n",
        "    # Step 4: Compute private key 'd' such that (d * e) % t == 1\n",
        "    j = 1\n",
        "    while True:\n",
        "        if (j * e) % t == 1:\n",
        "            d = j\n",
        "            break\n",
        "        j += 1\n",
        "\n",
        "    # Step 5: Encryption => ct = (message^e) % n\n",
        "    ct = pow(message, e, n)\n",
        "    print(f\"Encrypted message is {ct}\")\n",
        "\n",
        "    # Step 6: Decryption => mes = (ct^d) % n\n",
        "    mes = pow(ct, d, n)\n",
        "    print(f\"Decrypted message is {mes}\")\n",
        "\n",
        "# Test case 1\n",
        "RSA(p=53, q=59, message=89)\n",
        "\n",
        "# Test case 2\n",
        "RSA(p=3, q=7, message=12)\n"
      ]
    }
  ]
}